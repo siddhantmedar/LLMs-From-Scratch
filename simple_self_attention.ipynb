{
 "cells": [
  {
   "cell_type": "code",
   "execution_count": 5,
   "metadata": {},
   "outputs": [],
   "source": [
    "import numpy as np"
   ]
  },
  {
   "cell_type": "code",
   "execution_count": 6,
   "metadata": {},
   "outputs": [],
   "source": [
    "sentence = \"Your journey is one step at a time\""
   ]
  },
  {
   "cell_type": "code",
   "execution_count": 7,
   "metadata": {},
   "outputs": [
    {
     "data": {
      "text/plain": [
       "array([[-0.30650403, -1.86224877, -1.72032529],\n",
       "       [-1.26250171,  1.44306446,  1.09741042],\n",
       "       [ 1.20356015,  0.32156097, -0.56189089],\n",
       "       [-2.02178053,  1.99575316,  1.62464945],\n",
       "       [-1.20940494,  0.80187458,  0.71823093],\n",
       "       [ 0.18597543,  1.77358677, -0.81880388],\n",
       "       [-2.56523342,  0.93717837, -1.05611433],\n",
       "       [ 0.90141002,  0.48941773, -0.01763498]])"
      ]
     },
     "execution_count": 7,
     "metadata": {},
     "output_type": "execute_result"
    }
   ],
   "source": [
    "vector = np.random.randn(8,3)\n",
    "vector"
   ]
  },
  {
   "cell_type": "code",
   "execution_count": 27,
   "metadata": {},
   "outputs": [
    {
     "data": {
      "text/plain": [
       "{'Your': array([-0.30650403, -1.86224877, -1.72032529]),\n",
       " 'journey': array([-1.26250171,  1.44306446,  1.09741042]),\n",
       " 'is': array([ 1.20356015,  0.32156097, -0.56189089]),\n",
       " 'one': array([-2.02178053,  1.99575316,  1.62464945]),\n",
       " 'step': array([-1.20940494,  0.80187458,  0.71823093]),\n",
       " 'at': array([ 0.18597543,  1.77358677, -0.81880388]),\n",
       " 'a': array([-2.56523342,  0.93717837, -1.05611433]),\n",
       " 'time': array([ 0.90141002,  0.48941773, -0.01763498])}"
      ]
     },
     "execution_count": 27,
     "metadata": {},
     "output_type": "execute_result"
    }
   ],
   "source": [
    "idx2word = {i:word for i,word in enumerate(sentence.split())}\n",
    "word2embedding = {word:vector[i] for i,word in enumerate(sentence.split())}\n",
    "word2embedding"
   ]
  },
  {
   "cell_type": "code",
   "execution_count": 28,
   "metadata": {},
   "outputs": [
    {
     "data": {
      "text/plain": [
       "array([-1.26250171,  1.44306446,  1.09741042])"
      ]
     },
     "execution_count": 28,
     "metadata": {},
     "output_type": "execute_result"
    }
   ],
   "source": [
    "query = word2embedding[\"journey\"]\n",
    "query"
   ]
  },
  {
   "cell_type": "code",
   "execution_count": 29,
   "metadata": {},
   "outputs": [
    {
     "data": {
      "text/plain": [
       "{'Your': -4.188286062259364,\n",
       " 'journey': 4.880655236123976,\n",
       " 'is': -1.6720884524980155,\n",
       " 'one': 7.215409057628712,\n",
       " 'step': 3.472226624161396,\n",
       " 'at': 1.4260418384855358,\n",
       " 'a': 3.432029510625524,\n",
       " 'time': -0.45112315709648676}"
      ]
     },
     "execution_count": 29,
     "metadata": {},
     "output_type": "execute_result"
    }
   ],
   "source": [
    "# Q.K^T\n",
    "\n",
    "attn_weights = {}\n",
    "\n",
    "for i,key in enumerate(word2embedding.values()):\n",
    "    attn_weights[idx2word[i]] = np.dot(query,key.T)\n",
    "\n",
    "attn_weights"
   ]
  },
  {
   "cell_type": "code",
   "execution_count": 32,
   "metadata": {},
   "outputs": [
    {
     "data": {
      "text/plain": [
       "14.114864595171278"
      ]
     },
     "execution_count": 32,
     "metadata": {},
     "output_type": "execute_result"
    }
   ],
   "source": [
    "np.sum(list(attn_weights.values())) # not normalized"
   ]
  },
  {
   "attachments": {
    "image.png": {
     "image/png": "[encoded data removed]"
    }
   },
   "cell_type": "markdown",
   "metadata": {},
   "source": [
    "![image.png](attachment:image.png)"
   ]
  },
  {
   "cell_type": "code",
   "execution_count": 33,
   "metadata": {},
   "outputs": [],
   "source": [
    "# using softmax for normalization\n",
    "\n",
    "denominator = np.sum(np.exp(list(attn_weights.values())))\n",
    "\n",
    "for word, attn_weight in attn_weights.items():\n",
    "    attn_weights[word] = np.exp(attn_weight)/denominator"
   ]
  },
  {
   "cell_type": "code",
   "execution_count": 34,
   "metadata": {},
   "outputs": [
    {
     "data": {
      "text/plain": [
       "1.0"
      ]
     },
     "execution_count": 34,
     "metadata": {},
     "output_type": "execute_result"
    }
   ],
   "source": [
    "np.sum(list(attn_weights.values())) # normalized"
   ]
  },
  {
   "cell_type": "code",
   "execution_count": 36,
   "metadata": {},
   "outputs": [
    {
     "data": {
      "text/plain": [
       "{'Your': 9.725208739728227e-06,\n",
       " 'journey': 0.08442869845685451,\n",
       " 'is': 0.00012041197201536418,\n",
       " 'one': 0.8718881910539299,\n",
       " 'step': 0.02064511564564765,\n",
       " 'at': 0.0026679062140392527,\n",
       " 'a': 0.019831699600692792,\n",
       " 'time': 0.00040825184808084247}"
      ]
     },
     "execution_count": 36,
     "metadata": {},
     "output_type": "execute_result"
    }
   ],
   "source": [
    "attn_weights"
   ]
  },
  {
   "cell_type": "code",
   "execution_count": 47,
   "metadata": {},
   "outputs": [],
   "source": [
    "import torch\n",
    "import torch.nn as nn"
   ]
  },
  {
   "cell_type": "code",
   "execution_count": 50,
   "metadata": {},
   "outputs": [
    {
     "name": "stderr",
     "output_type": "stream",
     "text": [
      "/opt/homebrew/Caskroom/miniforge/base/envs/ml-env/lib/python3.11/site-packages/torch/nn/modules/module.py:1553: UserWarning: Implicit dimension choice for softmax has been deprecated. Change the call to include dim=X as an argument.\n",
      "  return self._call_impl(*args, **kwargs)\n"
     ]
    },
    {
     "data": {
      "text/plain": [
       "tensor([0.1050, 0.1143, 0.1050, 0.2511, 0.1072, 0.1053, 0.1071, 0.1050],\n",
       "       dtype=torch.float64)"
      ]
     },
     "execution_count": 50,
     "metadata": {},
     "output_type": "execute_result"
    }
   ],
   "source": [
    "softmax = nn.Softmax()\n",
    "\n",
    "softmax(torch.tensor(list(attn_weights.values())))"
   ]
  },
  {
   "cell_type": "code",
   "execution_count": 44,
   "metadata": {},
   "outputs": [
    {
     "data": {
      "text/plain": [
       "tensor(1., dtype=torch.float64)"
      ]
     },
     "execution_count": 44,
     "metadata": {},
     "output_type": "execute_result"
    }
   ],
   "source": [
    "torch.softmax(torch.tensor(list(attn_weights.values())),dim=0).sum()"
   ]
  },
  {
   "cell_type": "code",
   "execution_count": null,
   "metadata": {},
   "outputs": [],
   "source": []
  }
 ],
 "metadata": {
  "kernelspec": {
   "display_name": "ml-env",
   "language": "python",
   "name": "python3"
  },
  "language_info": {
   "codemirror_mode": {
    "name": "ipython",
    "version": 3
   },
   "file_extension": ".py",
   "mimetype": "text/x-python",
   "name": "python",
   "nbconvert_exporter": "python",
   "pygments_lexer": "ipython3",
   "version": "3.11.10"
  }
 },
 "nbformat": 4,
 "nbformat_minor": 2
}
